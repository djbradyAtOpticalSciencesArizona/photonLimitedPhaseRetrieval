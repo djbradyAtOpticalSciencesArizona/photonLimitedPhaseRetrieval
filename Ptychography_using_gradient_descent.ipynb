{
  "nbformat": 4,
  "nbformat_minor": 0,
  "metadata": {
    "kernelspec": {
      "display_name": "Python 3",
      "language": "python",
      "name": "python3"
    },
    "language_info": {
      "codemirror_mode": {
        "name": "ipython",
        "version": 3
      },
      "file_extension": ".py",
      "mimetype": "text/x-python",
      "name": "python",
      "nbconvert_exporter": "python",
      "pygments_lexer": "ipython3",
      "version": "3.6.8"
    },
    "colab": {
      "name": "Ptychography_using_gradient_descent.ipynb",
      "provenance": []
    }
  },
  "cells": [
    {
      "cell_type": "markdown",
      "metadata": {
        "id": "aim2_pIFuhXg"
      },
      "source": [
        "# Ptychography using gradient descent\n",
        "### Chengyu Wang, Duke University\n",
        "### David J. Brady, University of Arizona\n",
        "### Timothy J. Schulz, Michigan Technological University\n",
        "\n",
        "This script implements the 2D ptychography and a phase retrieval algorithm using gradient descent as described in \"Photon-limited bounds for phase retrieval.\"\n",
        "\n"
      ]
    },
    {
      "cell_type": "code",
      "metadata": {
        "id": "FJ2BD7ymuhXx"
      },
      "source": [
        "import tensorflow as tf\n",
        "import numpy as np\n",
        "from numpy import matlib\n",
        "import random\n",
        "tf.compat.v1.disable_eager_execution()\n",
        "\n",
        "# import os\n",
        "# os.environ['CUDA_VISIBLE_DEVICES'] = '-1'"
      ],
      "execution_count": null,
      "outputs": []
    },
    {
      "cell_type": "markdown",
      "metadata": {
        "id": "YUE9s_2SuhX2"
      },
      "source": [
        "## Error metrics\n",
        "\n",
        "If $\\underline{F}$ is an $N$-element optical field, and an estimate of this field is $\\widehat{\\underline{F}}$.\n",
        "One way to address this is to optimize the MSE over a global phase:\n",
        "\\begin{equation} \n",
        "MSE = \\underset{\\psi}{argmin} \\frac{1}{N} \\left\\| e^{j \\psi} \\underline{F} - \\widehat{\\underline{F}} \\right\\|^2. \n",
        "\\end{equation}"
      ]
    },
    {
      "cell_type": "code",
      "metadata": {
        "id": "sGL9W37nuhX3"
      },
      "source": [
        "def minAngMSE(xt,xest):\n",
        "    mse=(np.abs(np.vdot(xt,xt))+np.abs(np.vdot(xest,xest))-2*np.abs(np.vdot(xt,xest)));\n",
        "    return mse/xt.shape[0]"
      ],
      "execution_count": null,
      "outputs": []
    },
    {
      "cell_type": "markdown",
      "metadata": {
        "id": "0s5BPWq-uhX4"
      },
      "source": [
        "## Forward model\n",
        "For the forward model, $N_x$ is the number of pixels in each dimension of the random gaussian signal, $L_x$ is the size of the subaperture, and $M_x$ is the size of the each sampld frame. The subaperture moves circularly with step size $\\Delta $. The total number of frames is $\\left (\\frac{N_x}{\\Delta}\\right )^2$. We consider $N_x$ and $\\Delta $ to be powers of 2.\n",
        "\n",
        "A phase shift can be added to the aperture using the argument *is_mask*."
      ]
    },
    {
      "cell_type": "code",
      "metadata": {
        "id": "mtcZFrGpuhX4"
      },
      "source": [
        "## Dimensions\n",
        "N = 256\n",
        "L = 16\n",
        "# M = 2 * L\n",
        "pad_size = 8\n",
        "M = L + pad_size*2\n",
        "pitch = 1\n",
        "total_frame = int(N/pitch)**2\n",
        "\n",
        "is_mask = False ## add a phase shift\n",
        "is_noisy = True  ## add Poisson noise\n",
        "\n",
        "# ## random phase mask\n",
        "# mask = np.exp(1j * np.random.random([L,L]) * 2 * np.pi)\n",
        "\n",
        "# ## periodic phase mask\n",
        "# K = np.pi/L\n",
        "# mesh = np.arange(L)\n",
        "# xlocations,ylocations = np.meshgrid(mesh,mesh);\n",
        "# mask = np.exp(1j * np.cos(K*xlocations) * np.cos(K*ylocations)  * 2*np.pi)\n",
        "\n",
        "# ## MURA mask\n",
        "# def qres(p):\n",
        "#     qr = np.zeros([p-1])\n",
        "#     for i in range(p-1):\n",
        "#         qr[np.mod((i+1)**2,p)-1]=1\n",
        "#     return qr\n",
        "\n",
        "# def gen_mura(p):\n",
        "#     ## p is a prime number\n",
        "#     mask = np.zeros([p,p])\n",
        "#     mask[1:,:] = 1\n",
        "#     qr = qres(p)\n",
        "#     for i in range(1,p):\n",
        "#         for j in range(1,p):\n",
        "#             if qr[i-1] == 1 and qr[j-1] == 1:\n",
        "#                 mask[i,j] = 1\n",
        "#             elif qr[i-1] == 0 and qr[j-1] == 0:\n",
        "#                 mask[i,j] = 1\n",
        "#             else:\n",
        "#                 mask[i,j] = 0\n",
        "#     return mask\n",
        "# mask = gen_mura(L)*2-1 + 0 * 1j"
      ],
      "execution_count": null,
      "outputs": []
    },
    {
      "cell_type": "code",
      "metadata": {
        "id": "rwL_gT5ZuhX5"
      },
      "source": [
        "## subapertures\n",
        "## xlocations/ylocations save the cordinates of the top left pixels of subapertures\n",
        "mesh = np.arange(0,N,pitch)\n",
        "xlocations,ylocations = np.meshgrid(mesh,mesh);\n",
        "xlocations = xlocations.astype(int).flatten()\n",
        "ylocations = ylocations.astype(int).flatten()\n",
        "\n",
        "## Energy constraint\n",
        "## Count how many times each pixel (in Fourier domain) is measured\n",
        "## The energy will be eqaully divided to all measurements\n",
        "counts = np.zeros([2*N,2*N])\n",
        "for i in range(total_frame):\n",
        "     counts[xlocations[i]:xlocations[i]+L,ylocations[i]:ylocations[i]+L] += 1\n",
        "counts = counts[0:N,0:N] + counts[0:N,N:2*N] + counts[N:2*N,0:N] + counts[N:2*N,N:2*N]"
      ],
      "execution_count": null,
      "outputs": []
    },
    {
      "cell_type": "markdown",
      "metadata": {
        "id": "uIzZ1XEnuhX6"
      },
      "source": [
        "## Define the tensorflow graph to compute gradient"
      ]
    },
    {
      "cell_type": "code",
      "metadata": {
        "id": "xVPSiPEJuhX6"
      },
      "source": [
        "## define the tensorflow model\n",
        "X_FT_EST = tf.compat.v1.placeholder(tf.complex128, shape=(None,L,L))\n",
        "paddings = tf.constant([[0,0],[pad_size, pad_size], [pad_size, pad_size]])\n",
        "MEASUREMENT = tf.compat.v1.placeholder(tf.float64, shape=(None,M,M))\n",
        "if is_mask:\n",
        "    MASK = tf.constant(mask)\n",
        "    X_FT_EST_PAD = tf.pad(tf.multiply(X_FT_EST,MASK),paddings)\n",
        "else:\n",
        "    X_FT_EST_PAD = tf.pad(X_FT_EST,paddings)\n",
        "FORWARD = tf.abs(tf.signal.ifft2d(tf.signal.ifftshift(X_FT_EST_PAD,[1,2]))) * M\n",
        "loss = tf.reshape(tf.cast(tf.compat.v1.losses.mean_squared_error(abs(MEASUREMENT),abs(FORWARD)),tf.complex128),[1,1])\n",
        "weight = [[1 + 1j*0]]\n",
        "gradient = tf.gradients(loss, X_FT_EST, grad_ys = weight)\n",
        "\n",
        "## session\n",
        "sess = tf.compat.v1.Session()"
      ],
      "execution_count": null,
      "outputs": []
    },
    {
      "cell_type": "markdown",
      "metadata": {
        "id": "0qPScV8_uhX7"
      },
      "source": [
        "## Simulation\n",
        "\n",
        "In phase retirevel, we initialize the gradient descent with a simple projection method. The projection method itself is sensitive to noise, resulting in poor MSE, but it approximates the groundtruth faster than gradient descent method. The phase retrieval implemented in this script has two stages:\n",
        "\n",
        "- First a projection method approximates the grountruth\n",
        "- Second the gradient descent algorithm improves the accuracy.\n",
        "\n",
        "FYI: Because of the circular connections, the if ... elif ... elif ... else part is used to consider different locations of the aperture.\n",
        "\n",
        "FP_phaseretrieval_w_tensorflow.ipynb provides a version without circular connection. The phase retrieval in that file uses the same scheme, but it may look more straightforward."
      ]
    },
    {
      "cell_type": "code",
      "metadata": {
        "id": "TWw61PSwuhX7"
      },
      "source": [
        "num_loop = 3 ## number of loops for projection method\n",
        "num_iteration = 50 ## number of iterations for gradient descent\n",
        "lr = 5 * 1e7 ## learning rate for gradient update\n",
        "tol_gd = 0 ## tolerance of the humgradient descent, 0 if early stop is not needed\n",
        "photons = 1e6 ## average number of photons per signal element is106\n",
        "num_trial = 10 ## number of simulations"
      ],
      "execution_count": null,
      "outputs": []
    },
    {
      "cell_type": "code",
      "metadata": {
        "id": "bK8khQGEuhX8"
      },
      "source": [
        "## random signals\n",
        "# XT = np.random.randn(num_trial,N,N)+1j*np.random.randn(num_trial,N,N);\n",
        "# XT = np.sqrt(photons)*XT/np.sqrt(2.)\n",
        "# np.save('XT.npy',XT)\n",
        "XT = np.load('XT.npy')"
      ],
      "execution_count": null,
      "outputs": []
    },
    {
      "cell_type": "code",
      "metadata": {
        "id": "wnb6OVVUuhX8",
        "outputId": "2f3624fe-6755-49a1-e3d4-79b150e47500"
      },
      "source": [
        "MSE = np.zeros([num_trial])\n",
        "for ct in range(num_trial):\n",
        "    print(ct,end='\\r',flush=True)\n",
        "    \n",
        "    ## signal\n",
        "#     xt = np.random.randn(N,N)+1j*np.random.randn(N,N);\n",
        "#     xt = np.sqrt(photons)*xt/np.sqrt(2.)\n",
        "    xt = XT[ct,:,:]\n",
        "    objectFT = np.fft.fftshift(np.fft.fft2(xt))/N/np.sqrt(counts)\n",
        "    objectFT = matlib.repmat(objectFT, 2, 2)\n",
        "    \n",
        "    ## measurement\n",
        "    imSeqLowRes = np.zeros([total_frame, M, M]);\n",
        "    for i in range(total_frame):\n",
        "        imSeqLowFT = objectFT[xlocations[i]:xlocations[i] + L,ylocations[i]:ylocations[i] + L]\n",
        "        if is_mask:\n",
        "            imSeqLowFT = np.pad(imSeqLowFT * mask,pad_size)\n",
        "        else:\n",
        "            imSeqLowFT = np.pad(imSeqLowFT,pad_size)\n",
        "        imSeqLowRes[i,:,:] = np.abs(np.fft.ifft2(np.fft.ifftshift(imSeqLowFT))) * M\n",
        "    if is_noisy:\n",
        "        imSeqLowRes = np.sqrt(np.random.poisson(np.power(np.abs(imSeqLowRes),2)))\n",
        "\n",
        "#     #energy\n",
        "#     print(np.sum(np.power(abs(xt.flatten()),2)))\n",
        "#     print(np.sum(np.power(abs(imSeqLowRes.flatten()),2)))\n",
        "\n",
        "    # Projection\n",
        "    imageRecover = np.random.randn(N,N);\n",
        "    imageRecoverFT = np.fft.fftshift(np.fft.fft2(imageRecover))\n",
        "    imageRecoverFT = objectFT[0:N,0:N] + 10\n",
        "    seq = list(range(total_frame))\n",
        "    for loop in range(num_loop):\n",
        "        random.shuffle(seq)\n",
        "        for i in seq:\n",
        "            if not xlocations[i] > N - L and not ylocations[i] > N-L:\n",
        "                if is_mask:\n",
        "                    imLowRes = np.fft.ifft2(np.fft.ifftshift(np.pad(imageRecoverFT[xlocations[i]:xlocations[i]+L,ylocations[i]:ylocations[i]+L] * mask,pad_size)))\n",
        "                else:\n",
        "                    imLowRes = np.fft.ifft2(np.fft.ifftshift(np.pad(imageRecoverFT[xlocations[i]:xlocations[i]+L,ylocations[i]:ylocations[i]+L],pad_size)))\n",
        "                        \n",
        "                imLowRes = imSeqLowRes[i,:,:] * np.exp(1j * np.angle(imLowRes))\n",
        "                inverse = np.fft.fftshift(np.fft.fft2(imLowRes)) / M\n",
        "                if is_mask:\n",
        "                    imageRecoverFT[xlocations[i]:xlocations[i]+L,ylocations[i]:ylocations[i]+L] = inverse[pad_size:pad_size+L,pad_size:pad_size+L]/mask\n",
        "                else:\n",
        "                    imageRecoverFT[xlocations[i]:xlocations[i]+L,ylocations[i]:ylocations[i]+L] = inverse[pad_size:pad_size+L,pad_size:pad_size+L]\n",
        "            else:\n",
        "                imageRecoverFTRep = matlib.repmat(imageRecoverFT, 2, 2)\n",
        "                if is_mask:\n",
        "                    imLowRes = np.fft.ifft2(np.fft.ifftshift(np.pad(imageRecoverFTRep[xlocations[i]:xlocations[i]+L,ylocations[i]:ylocations[i]+L] * mask,pad_size)))\n",
        "                else:\n",
        "                    imLowRes = np.fft.ifft2(np.fft.ifftshift(np.pad(imageRecoverFTRep[xlocations[i]:xlocations[i]+L,ylocations[i]:ylocations[i]+L],pad_size)))\n",
        "                imLowRes = imSeqLowRes[i,:,:] * np.exp(1j * np.angle(imLowRes))\n",
        "                inverse = np.fft.fftshift(np.fft.fft2(imLowRes)) / M\n",
        "                if is_mask:\n",
        "                    inverse = inverse[pad_size:pad_size+L,pad_size:pad_size+L]/mask\n",
        "                else:\n",
        "                    inverse = inverse[pad_size:pad_size+L,pad_size:pad_size+L]\n",
        "                if xlocations[i] > N - L and not ylocations[i] > N-L:\n",
        "                    imageRecoverFT[xlocations[i]:N,ylocations[i]:ylocations[i]+L] = inverse[0:N-xlocations[i],:]\n",
        "                    imageRecoverFT[0:L+xlocations[i]-N,ylocations[i]:ylocations[i]+L] = inverse[N-xlocations[i]:,:]\n",
        "                elif not xlocations[i] > N - L and ylocations[i] > N-L:\n",
        "                    imageRecoverFT[xlocations[i]:xlocations[i]+L,ylocations[i]:N] = inverse[:,0:N-ylocations[i]]\n",
        "                    imageRecoverFT[xlocations[i]:xlocations[i]+L,0:L+ylocations[i]-N] = inverse[:,N-ylocations[i]:]\n",
        "                else:\n",
        "                    imageRecoverFT[xlocations[i]:N,ylocations[i]:N] = inverse[0:N-xlocations[i],0:N-ylocations[i]]\n",
        "                    imageRecoverFT[0:L+xlocations[i]-N,0:L+ylocations[i]-N] = inverse[N-xlocations[i]:N,N-ylocations[i]:]\n",
        "                    imageRecoverFT[xlocations[i]:N,0:L+ylocations[i]-N] = inverse[0:N-xlocations[i],N-ylocations[i]:]\n",
        "                    imageRecoverFT[0:L+xlocations[i]-N,ylocations[i]:N] = inverse[N-xlocations[i]:,0:N-ylocations[i]]\n",
        "        if loop%1 == 0:\n",
        "            imageRecover=np.fft.ifft2(np.fft.ifftshift(imageRecoverFT*np.sqrt(counts))) * N\n",
        "            print(loop,minAngMSE(xt.flatten(),imageRecover.flatten()),end='\\r',flush=True)\n",
        "#         if minAngMSE(xt.flatten(),imageRecover.flatten()) < 5.7:\n",
        "#             break\n",
        "\n",
        "    ## GD\n",
        "    # imageRecover = np.random.randn(N,N)+1j*np.random.randn(N,N)\n",
        "    # imageRecover = np.sqrt(photons)*imageRecover/np.sqrt(2.)  \n",
        "    # imageRecoverFT = np.fft.fftshift(np.fft.fft2(imageRecover))/4/N\n",
        "    loss_pre = 0\n",
        "    for iter_ in range(num_iteration):\n",
        "\n",
        "        ## generate batch\n",
        "        imageRecoverFTRep = matlib.repmat(imageRecoverFT, 2, 2)\n",
        "        batch_tensor = np.zeros([total_frame ,L, L]) * 1j\n",
        "        for i in range(total_frame):\n",
        "            batch_tensor[i,:,:] = imageRecoverFTRep[xlocations[i]:xlocations[i]+L,ylocations[i]:ylocations[i]+L]\n",
        "\n",
        "        current_loss = abs(sess.run(loss,feed_dict={X_FT_EST:batch_tensor,MEASUREMENT:imSeqLowRes})[0])\n",
        "        \n",
        "        if abs(loss_pre - current_loss )<tol_gd:  ## early stop\n",
        "            break\n",
        "        loss_pre = current_loss\n",
        "\n",
        "        gradient_sum = np.zeros([N,N]) * 1j\n",
        "        gradient_tensor = sess.run(gradient,feed_dict={X_FT_EST:batch_tensor,MEASUREMENT:imSeqLowRes})[0]\n",
        "        for i in range(total_frame):\n",
        "            if not xlocations[i] > N - L and not ylocations[i] > N-L:\n",
        "                gradient_sum[xlocations[i]:xlocations[i]+L,ylocations[i]:ylocations[i]+L] += gradient_tensor[i,:,:]\n",
        "            elif xlocations[i] > N - L and not ylocations[i] > N-L:\n",
        "                gradient_sum[xlocations[i]:N,ylocations[i]:ylocations[i]+L] += gradient_tensor[i,0:N-xlocations[i],:]\n",
        "                gradient_sum[0:L+xlocations[i]-N,ylocations[i]:ylocations[i]+L] += gradient_tensor[i,N-xlocations[i]:,:]\n",
        "            elif not xlocations[i] > N - L and ylocations[i] > N-L:\n",
        "                gradient_sum[xlocations[i]:xlocations[i]+L,ylocations[i]:N] += gradient_tensor[i,:,0:N-ylocations[i]]\n",
        "                gradient_sum[xlocations[i]:xlocations[i]+L,0:L+ylocations[i]-N] += gradient_tensor[i,:,N-ylocations[i]:]\n",
        "            else:\n",
        "                gradient_sum[xlocations[i]:N,ylocations[i]:N] += gradient_tensor[i,0:N-xlocations[i],0:N-ylocations[i]]\n",
        "                gradient_sum[0:L+xlocations[i]-N,0:L+ylocations[i]-N] += gradient_tensor[i,N-xlocations[i]:N,N-ylocations[i]:]\n",
        "                gradient_sum[xlocations[i]:N,0:L+ylocations[i]-N] += gradient_tensor[i,0:N-xlocations[i],N-ylocations[i]:]\n",
        "                gradient_sum[0:L+xlocations[i]-N,ylocations[i]:N] += gradient_tensor[i,N-xlocations[i]:,0:N-ylocations[i]]      \n",
        "        imageRecoverFT = imageRecoverFT - lr * gradient_sum/counts\n",
        "        if iter_%1 == 0:\n",
        "            imageRecover=np.fft.ifft2(np.fft.ifftshift(imageRecoverFT*np.sqrt(counts))) * N\n",
        "            print(iter_,minAngMSE(xt.flatten(),imageRecover.flatten()),end='\\r',flush=True)\n",
        "    imageRecover=np.fft.ifft2(np.fft.ifftshift(imageRecoverFT*np.sqrt(counts))) * N\n",
        "    MSE[ct] = minAngMSE(xt.flatten(),imageRecover.flatten())\n",
        "print('photons = %d, pitch = %d,L = %d, M = %d, MSE = %f.'%(photons,pitch,L,M,np.mean(MSE)))"
      ],
      "execution_count": null,
      "outputs": [
        {
          "output_type": "stream",
          "text": [
            "photons = 1000000, pitch = 1,L = 16, M = 32, MSE = 1.115040.\n"
          ],
          "name": "stdout"
        }
      ]
    },
    {
      "cell_type": "code",
      "metadata": {
        "id": "UrcFdj27uhYL",
        "outputId": "3ee0f247-8743-483a-8d94-4698c648d1c6"
      },
      "source": [
        "np.mean(MSE[0:18])"
      ],
      "execution_count": null,
      "outputs": [
        {
          "output_type": "execute_result",
          "data": {
            "text/plain": [
              "1.1814776699627854"
            ]
          },
          "metadata": {
            "tags": []
          },
          "execution_count": 23
        }
      ]
    },
    {
      "cell_type": "code",
      "metadata": {
        "id": "ltU0MQUbuhYT",
        "outputId": "0c963066-2c39-4e87-d4ff-2409afd18db4"
      },
      "source": [
        "MSE[0:10]"
      ],
      "execution_count": null,
      "outputs": [
        {
          "output_type": "execute_result",
          "data": {
            "text/plain": [
              "array([1.10005762, 1.09636615, 1.1067594 , 1.09373958, 1.10623215,\n",
              "       1.0996757 , 1.10551584, 1.09144104, 1.10184666, 1.10203794])"
            ]
          },
          "metadata": {
            "tags": []
          },
          "execution_count": 18
        }
      ]
    },
    {
      "cell_type": "code",
      "metadata": {
        "scrolled": true,
        "id": "1unxq25duhYT",
        "outputId": "af69bef5-149e-4424-e4c6-07ff78489aca"
      },
      "source": [
        "print('photons = %d, pitch = %d,L = %d, M = %d, MSE = %f.'%(photons,pitch,L,M,np.mean(MSE)))"
      ],
      "execution_count": null,
      "outputs": [
        {
          "output_type": "stream",
          "text": [
            "photons = 1000000, pitch = 4,L = 32, M = 96, MSE = 1.102353.\n"
          ],
          "name": "stdout"
        }
      ]
    },
    {
      "cell_type": "markdown",
      "metadata": {
        "id": "9fIqlP5kuhYT"
      },
      "source": [
        "# results"
      ]
    },
    {
      "cell_type": "markdown",
      "metadata": {
        "id": "MJ_KwM_0uhYU"
      },
      "source": [
        "|pitch|L = 128, M = 256|L = 64, M = 128|L = 64, M = 192|L = 64, M = 256|\n",
        "|-----|----------------|---------------|---------------|---------------|\n",
        "|64   |1.225894        |N/A            |N/A            |N/A            |\n",
        "|32   |1.127360        |1.191672       |1.178917       |1.176729       |\n",
        "|16   |1.110422        |1.109887       |1.108261       |1.108130       |\n",
        "|8    |1.126297        |1.096419       |1.100261       |1.115072       |\n",
        "|4    |1.445           |1.112696       |               |               |\n",
        "\n",
        "|pitch|L = 32,M = 64|L = 32,M = 96|L = 32, M = 128|L = 32, M = 256|L = 16, M = 32|L = 16, M = 64|L = 16, M = 128|\n",
        "|-----|-------------|-------------|---------------|---------------|--------------|--------------|---------------|\n",
        "|64   |N/A          |N/A          |N/A            |N/A            |N/A           |N/A           |N/A            |\n",
        "|32   |N/A          |N/A          |N/A            |N/A            |N/A           |N/A           |N/A            |\n",
        "|16   |1.191906     |1.177208     |1.175811       |1.177193       |N/A           |N/A           |N/A            |\n",
        "|8    |1.108914     |1.107747     |1.108682       |1.129494       |1.197728      |1.181478      |1.183515       | \n",
        "|4    |1.095429     |1.101360     |1.112736       |               |1.114534      |              |               |\n",
        "|2    |1.109849     |             |               |               |1.100355      |              |               |\n",
        "|1    |             |             |               |               |1.115040      |              |               |\n",
        "\n"
      ]
    },
    {
      "cell_type": "code",
      "metadata": {
        "id": "Obwo_aeBuhYU",
        "outputId": "bc996504-d28a-4424-a09a-fad8246f827a"
      },
      "source": [
        "(1.100367+1.102353)/2"
      ],
      "execution_count": null,
      "outputs": [
        {
          "output_type": "execute_result",
          "data": {
            "text/plain": [
              "1.1013600000000001"
            ]
          },
          "metadata": {
            "tags": []
          },
          "execution_count": 21
        }
      ]
    },
    {
      "cell_type": "code",
      "metadata": {
        "id": "w_6cAF5YuhYU",
        "outputId": "9121cf5e-5379-4f98-c5fd-5d0066840180"
      },
      "source": [
        "2.2589870000000003/2"
      ],
      "execution_count": null,
      "outputs": [
        {
          "output_type": "execute_result",
          "data": {
            "text/plain": [
              "1.1294935000000002"
            ]
          },
          "metadata": {
            "tags": []
          },
          "execution_count": 13
        }
      ]
    },
    {
      "cell_type": "markdown",
      "metadata": {
        "id": "rh-SnNUruhYV"
      },
      "source": [
        "|L = 64, M = 128   | no mask||L = 32, M = 64   | no mask|\n",
        "|-|-|-|-|-|\n",
        "|pitch 32    |   1.191672||||\n",
        "|pitch 16   |    1.109887| |pitch16||\n",
        "|pitch 8 |1.096419||pitch 8||\n",
        "|pitch 4 |1.112696||pitch 4||\n"
      ]
    },
    {
      "cell_type": "markdown",
      "metadata": {
        "id": "ixQQHh1GuhYV"
      },
      "source": [
        "|L (M = 2L)       |random  mask  |  period      |      no mask|   |L (M = 2L-1) |MURA|random mask|\n",
        " |-|-|-|-|-|-|-|-|\n",
        "|L = 16,pitch = 4| 1.033013      |  *1.068053*   |    1.114833|   |L = 17,pitch = 4 |1.039511 |*1.031405*|\n",
        "|L = 32,pitch = 8 | 1.026172      |   *1.065940*   |    1.110008|   |L = 29,pitch = 8 |1.037748 ||\n",
        "|L = 64,pitch = 16 | 1.025036      |  *1.064933*    |    1.110296|   |L = 61,pitch = 16 | 1.030068|1.027090|\n",
        "|L = 128,pitch = 32| 1.023604      |  *1.065430*   |    1.127946|   |L = 113,pitch = 32|1.034224 ||\n",
        "|L = 128,pitch = 16|1.007899 | | | |L = 127,pitch = 16| 1.008056|1.007153 ||\n",
        "|| | | | |L = 127,pitch = 8|*1.016922*  |  |\n",
        "\n",
        "- Italic digits are simulted on 10 samples, others are on 100 samples.\n",
        "- Because MURA has odd number of pixels each dimension, some points (in fourier domain) are measured more times than other points.\n",
        "- Decreasing the pitch (subaperture shift) from 50% to 12.5% of aperture width, the MSE decreases, with or without mask. However, when pitch is 6.25% of aperture width, the MSE increases. (I have tested with photons = 1e7, it still happens, so it is not related to the low energy per sample.)"
      ]
    },
    {
      "cell_type": "markdown",
      "metadata": {
        "id": "nBV0B6BquhYV"
      },
      "source": [
        "|L (M = 2L)       |random  mask  |  period      |      no mask|   |L (M = 2L-1) |MURA|random mask|\n",
        " |-|-|-|-|-|-|-|-|\n",
        "|L = 16,pitch = 4| 1.033013      |  *1.068053*   |    1.114833|   |L = 17,pitch = 4 |1.039511 |*1.031405*|\n",
        "|L = 32,pitch = 8 | 1.026172      |   *1.065940*   |    1.110008|   |L = 31,pitch = 8 | 1.034318|1.027950|\n",
        "|L = 64,pitch = 16 | 1.025036      |  *1.064933*    |    1.110296|   |L = 61,pitch = 16 | 1.030068|1.027090|\n",
        "|L = 128,pitch = 32| 1.023604      |  *1.065430*   |    1.127946|   |L = 127,pitch = 32| 1.026307|1.024718|\n",
        "|L = 128,pitch = 16|1.007899 | | | |L = 127,pitch = 16| 1.008056|1.007153 ||\n",
        "|| | | | |L = 127,pitch = 8|*1.016922*  |  |"
      ]
    },
    {
      "cell_type": "markdown",
      "metadata": {
        "id": "UVqtWzGEuhYV"
      },
      "source": [
        "|L (M = 2L)       |random  mask  |  period      |      no mask|   |L (M = 2L-1) |MURA|random mask|\n",
        " |-|-|-|-|-|-|-|-|\n",
        "|L = 16,pitch = 4| 1.033013      |  *1.068053*   |    1.114833|   |L = 17,pitch = 4 |1.039511 ||\n",
        "|L = 32,pitch = 8 | 1.026172      |   *1.065940*   |    1.110008|   |L = 31,pitch = 8 | 1.034318|1.027950|\n",
        "|L = 64,pitch = 16 | 1.025036      |  *1.064933*    |    1.110296|   |L = 61,pitch = 16 | 1.030068|1.027090|\n",
        "|L = 128,pitch = 32| 1.023604      |  *1.065430*   |    1.127946|   |L = 127,pitch = 32| 1.026307|1.024718|\n",
        "|L = 128,pitch = 16|1.007899 | | | |L = 127,pitch = 16| 1.008056|1.007153 ||\n",
        "|| | | | |L = 127,pitch = 8|*1.016922*  |  |\n",
        "\n",
        "decreasing: pitch > L/8\n",
        "\n",
        "increasing: pitch < L/8"
      ]
    },
    {
      "cell_type": "code",
      "metadata": {
        "id": "t5aeVl3TuhYV",
        "outputId": "7cdef2a2-c917-4d11-9d2d-a0fd4711c7f2"
      },
      "source": [
        "256-32"
      ],
      "execution_count": null,
      "outputs": [
        {
          "output_type": "execute_result",
          "data": {
            "text/plain": [
              "224"
            ]
          },
          "metadata": {
            "tags": []
          },
          "execution_count": 3
        }
      ]
    },
    {
      "cell_type": "code",
      "metadata": {
        "scrolled": false,
        "id": "SPtYxTPYuhYW",
        "outputId": "0ce83edf-4d0f-400b-f8ea-d9f6dafd66d1"
      },
      "source": [
        "MSE = np.zeros([num_trial])\n",
        "for ct in range(num_trial):\n",
        "    print(ct,end='\\r',flush=True)\n",
        "    \n",
        "    ## signal\n",
        "#     xt = np.random.randn(N,N)+1j*np.random.randn(N,N);\n",
        "#     xt = np.sqrt(photons)*xt/np.sqrt(2.)\n",
        "    xt = XT[ct,:,:]\n",
        "    objectFT = np.fft.fftshift(np.fft.fft2(xt))/N/np.sqrt(counts)\n",
        "    objectFT = matlib.repmat(objectFT, 2, 2)\n",
        "    \n",
        "    ## measurement\n",
        "    imSeqLowRes = np.zeros([total_frame, M, M]);\n",
        "    for i in range(total_frame):\n",
        "        imSeqLowFT = objectFT[xlocations[i]:xlocations[i] + L,ylocations[i]:ylocations[i] + L]\n",
        "        if is_mask:\n",
        "            imSeqLowFT = np.pad(imSeqLowFT * mask,pad_size)\n",
        "        else:\n",
        "            imSeqLowFT = np.pad(imSeqLowFT,pad_size)\n",
        "        imSeqLowRes[i,:,:] = np.abs(np.fft.ifft2(np.fft.ifftshift(imSeqLowFT))) * M\n",
        "    if is_noisy:\n",
        "        imSeqLowRes = np.sqrt(np.random.poisson(np.power(np.abs(imSeqLowRes),2)))\n",
        "\n",
        "#     #energy\n",
        "#     print(np.sum(np.power(abs(xt.flatten()),2)))\n",
        "#     print(np.sum(np.power(abs(imSeqLowRes.flatten()),2)))\n",
        "\n",
        "    # Projection\n",
        "    imageRecover = np.random.randn(N,N);\n",
        "    imageRecoverFT = np.fft.fftshift(np.fft.fft2(imageRecover))\n",
        "    imageRecoverFT = objectFT[0:N,0:N] + 10\n",
        "    seq = list(range(total_frame))\n",
        "    for loop in range(num_loop):\n",
        "        random.shuffle(seq)\n",
        "        for i in seq:\n",
        "            if not xlocations[i] > N - L and not ylocations[i] > N-L:\n",
        "                if is_mask:\n",
        "                    imLowRes = np.fft.ifft2(np.fft.ifftshift(np.pad(imageRecoverFT[xlocations[i]:xlocations[i]+L,ylocations[i]:ylocations[i]+L] * mask,pad_size)))\n",
        "                else:\n",
        "                    imLowRes = np.fft.ifft2(np.fft.ifftshift(np.pad(imageRecoverFT[xlocations[i]:xlocations[i]+L,ylocations[i]:ylocations[i]+L],pad_size)))\n",
        "                        \n",
        "                imLowRes = imSeqLowRes[i,:,:] * np.exp(1j * np.angle(imLowRes))\n",
        "                inverse = np.fft.fftshift(np.fft.fft2(imLowRes)) / M\n",
        "                if is_mask:\n",
        "                    imageRecoverFT[xlocations[i]:xlocations[i]+L,ylocations[i]:ylocations[i]+L] = inverse[pad_size:pad_size+L,pad_size:pad_size+L]/mask\n",
        "                else:\n",
        "                    imageRecoverFT[xlocations[i]:xlocations[i]+L,ylocations[i]:ylocations[i]+L] = inverse[pad_size:pad_size+L,pad_size:pad_size+L]\n",
        "            else:\n",
        "                imageRecoverFTRep = matlib.repmat(imageRecoverFT, 2, 2)\n",
        "                if is_mask:\n",
        "                    imLowRes = np.fft.ifft2(np.fft.ifftshift(np.pad(imageRecoverFTRep[xlocations[i]:xlocations[i]+L,ylocations[i]:ylocations[i]+L] * mask,pad_size)))\n",
        "                else:\n",
        "                    imLowRes = np.fft.ifft2(np.fft.ifftshift(np.pad(imageRecoverFTRep[xlocations[i]:xlocations[i]+L,ylocations[i]:ylocations[i]+L],pad_size)))\n",
        "                imLowRes = imSeqLowRes[i,:,:] * np.exp(1j * np.angle(imLowRes))\n",
        "                inverse = np.fft.fftshift(np.fft.fft2(imLowRes)) / M\n",
        "                if is_mask:\n",
        "                    inverse = inverse[pad_size:pad_size+L,pad_size:pad_size+L]/mask\n",
        "                else:\n",
        "                    inverse = inverse[pad_size:pad_size+L,pad_size:pad_size+L]\n",
        "                if xlocations[i] > N - L and not ylocations[i] > N-L:\n",
        "                    imageRecoverFT[xlocations[i]:N,ylocations[i]:ylocations[i]+L] = inverse[0:N-xlocations[i],:]\n",
        "                    imageRecoverFT[0:L+xlocations[i]-N,ylocations[i]:ylocations[i]+L] = inverse[N-xlocations[i]:,:]\n",
        "                elif not xlocations[i] > N - L and ylocations[i] > N-L:\n",
        "                    imageRecoverFT[xlocations[i]:xlocations[i]+L,ylocations[i]:N] = inverse[:,0:N-ylocations[i]]\n",
        "                    imageRecoverFT[xlocations[i]:xlocations[i]+L,0:L+ylocations[i]-N] = inverse[:,N-ylocations[i]:]\n",
        "                else:\n",
        "                    imageRecoverFT[xlocations[i]:N,ylocations[i]:N] = inverse[0:N-xlocations[i],0:N-ylocations[i]]\n",
        "                    imageRecoverFT[0:L+xlocations[i]-N,0:L+ylocations[i]-N] = inverse[N-xlocations[i]:N,N-ylocations[i]:]\n",
        "                    imageRecoverFT[xlocations[i]:N,0:L+ylocations[i]-N] = inverse[0:N-xlocations[i],N-ylocations[i]:]\n",
        "                    imageRecoverFT[0:L+xlocations[i]-N,ylocations[i]:N] = inverse[N-xlocations[i]:,0:N-ylocations[i]]\n",
        "        if loop%1 == 0:\n",
        "            imageRecover=np.fft.ifft2(np.fft.ifftshift(imageRecoverFT*np.sqrt(counts))) * N\n",
        "            print(loop,minAngMSE(xt.flatten(),imageRecover.flatten()),end='\\r',flush=True)\n",
        "#         if minAngMSE(xt.flatten(),imageRecover.flatten()) < 5.7:\n",
        "#             break\n",
        "\n",
        "    ## GD\n",
        "    # imageRecover = np.random.randn(N,N)+1j*np.random.randn(N,N)\n",
        "    # imageRecover = np.sqrt(photons)*imageRecover/np.sqrt(2.)  \n",
        "    # imageRecoverFT = np.fft.fftshift(np.fft.fft2(imageRecover))/4/N\n",
        "    loss_pre = 0\n",
        "    gradient_tensor = np.zeros([total_frame,L,L]) * 1j\n",
        "    for iter_ in range(num_iteration):\n",
        "\n",
        "        ## generate batch\n",
        "        imageRecoverFTRep = matlib.repmat(imageRecoverFT, 2, 2)\n",
        "        batch_tensor = np.zeros([total_frame ,L, L]) * 1j\n",
        "        for i in range(total_frame):\n",
        "            batch_tensor[i,:,:] = imageRecoverFTRep[xlocations[i]:xlocations[i]+L,ylocations[i]:ylocations[i]+L]\n",
        "\n",
        "#         current_loss = abs(sess.run(loss,feed_dict={X_FT_EST:batch_tensor,MEASUREMENT:imSeqLowRes})[0])\n",
        "        \n",
        "#         if abs(loss_pre - current_loss )<tol_gd:  ## early stop\n",
        "#             break\n",
        "#         loss_pre = current_loss\n",
        "\n",
        "        gradient_sum = np.zeros([N,N]) * 1j\n",
        "        quater = int(total_frame/4)\n",
        "        gradient_tensor[0:quater,:,:] = sess.run(gradient,feed_dict={X_FT_EST:batch_tensor[0:quater,:,:],MEASUREMENT:imSeqLowRes[0:quater,:,:]})[0]\n",
        "        gradient_tensor[quater:2*quater,:,:] = sess.run(gradient,feed_dict={X_FT_EST:batch_tensor[quater:2*quater,:,:],MEASUREMENT:imSeqLowRes[quater:2*quater,:,:]})[0]\n",
        "        gradient_tensor[2*quater:3*quater,:,:] = sess.run(gradient,feed_dict={X_FT_EST:batch_tensor[2*quater:3*quater,:,:],MEASUREMENT:imSeqLowRes[2*quater:3*quater,:,:]})[0]\n",
        "        gradient_tensor[3*quater:4*quater,:,:] = sess.run(gradient,feed_dict={X_FT_EST:batch_tensor[3*quater:4*quater,:,:],MEASUREMENT:imSeqLowRes[3*quater:4*quater,:,:]})[0]\n",
        "        for i in range(total_frame):\n",
        "            if not xlocations[i] > N - L and not ylocations[i] > N-L:\n",
        "                gradient_sum[xlocations[i]:xlocations[i]+L,ylocations[i]:ylocations[i]+L] += gradient_tensor[i,:,:]\n",
        "            elif xlocations[i] > N - L and not ylocations[i] > N-L:\n",
        "                gradient_sum[xlocations[i]:N,ylocations[i]:ylocations[i]+L] += gradient_tensor[i,0:N-xlocations[i],:]\n",
        "                gradient_sum[0:L+xlocations[i]-N,ylocations[i]:ylocations[i]+L] += gradient_tensor[i,N-xlocations[i]:,:]\n",
        "            elif not xlocations[i] > N - L and ylocations[i] > N-L:\n",
        "                gradient_sum[xlocations[i]:xlocations[i]+L,ylocations[i]:N] += gradient_tensor[i,:,0:N-ylocations[i]]\n",
        "                gradient_sum[xlocations[i]:xlocations[i]+L,0:L+ylocations[i]-N] += gradient_tensor[i,:,N-ylocations[i]:]\n",
        "            else:\n",
        "                gradient_sum[xlocations[i]:N,ylocations[i]:N] += gradient_tensor[i,0:N-xlocations[i],0:N-ylocations[i]]\n",
        "                gradient_sum[0:L+xlocations[i]-N,0:L+ylocations[i]-N] += gradient_tensor[i,N-xlocations[i]:N,N-ylocations[i]:]\n",
        "                gradient_sum[xlocations[i]:N,0:L+ylocations[i]-N] += gradient_tensor[i,0:N-xlocations[i],N-ylocations[i]:]\n",
        "                gradient_sum[0:L+xlocations[i]-N,ylocations[i]:N] += gradient_tensor[i,N-xlocations[i]:,0:N-ylocations[i]]      \n",
        "        imageRecoverFT = imageRecoverFT - lr * gradient_sum/counts\n",
        "        if iter_%1 == 0:\n",
        "            imageRecover=np.fft.ifft2(np.fft.ifftshift(imageRecoverFT*np.sqrt(counts))) * N\n",
        "            print(iter_,minAngMSE(xt.flatten(),imageRecover.flatten()))\n",
        "    imageRecover=np.fft.ifft2(np.fft.ifftshift(imageRecoverFT*np.sqrt(counts))) * N\n",
        "    MSE[ct] = minAngMSE(xt.flatten(),imageRecover.flatten())\n",
        "print('photons = %d, pitch = %d,L = %d, M = %d, MSE = %f.'%(photons,pitch,L,M,np.mean(MSE)))"
      ],
      "execution_count": null,
      "outputs": [
        {
          "output_type": "stream",
          "text": [
            "0 192.76839499548078\n",
            "1 99.91567951394245\n",
            "2 54.36699071037583\n",
            "3 31.1281609616708\n",
            "4 18.823639750713482\n",
            "5 12.06997874029912\n",
            "6 8.229133875574917\n",
            "7 5.966254276689142\n",
            "8 4.585195736493915\n",
            "9 3.7122472829651088\n",
            "10 3.1410764548927546\n",
            "11 2.7545914959628135\n",
            "12 2.4845264572650194\n",
            "13 2.290009975200519\n",
            "14 2.145923960953951\n",
            "15 2.0364304708782583\n",
            "16 1.951289305696264\n",
            "17 1.8837160470429808\n",
            "18 1.8291085872333497\n",
            "19 1.7842737992759794\n",
            "20 1.7469479783903807\n",
            "21 1.715493369847536\n",
            "22 1.6887023337185383\n",
            "23 1.6656684495974332\n",
            "24 1.6457001818343997\n",
            "25 1.6282619086559862\n",
            "26 1.6129330324474722\n",
            "27 1.599379074992612\n",
            "28 1.587330993032083\n",
            "29 1.5765700936317444\n",
            "30 1.5669169209431857\n",
            "31 1.5582229369319975\n",
            "32 1.5503642074763775\n",
            "33 1.543236592784524\n",
            "34 1.5367519895080477\n",
            "35 1.530835394980386\n",
            "36 1.5254226250108331\n",
            "37 1.520458438899368\n",
            "38 1.515895067481324\n",
            "39 1.5116910196375102\n",
            "40 1.5078101137187332\n",
            "41 1.5042206263169646\n",
            "42 1.5008946976158768\n",
            "43 1.4978077372070402\n",
            "44 1.4949379763565958\n",
            "45 1.4922660852316767\n",
            "46 1.4897748362272978\n",
            "47 1.4874488492496312\n",
            "48 1.4852743591181934\n",
            "49 1.483238979242742\n",
            "50 1.4813315744977444\n",
            "51 1.4795421024318784\n",
            "52 1.4778614623937756\n",
            "53 1.4762814166024327\n",
            "54 1.474794487003237\n",
            "55 1.473393868887797\n",
            "56 1.4720733580179513\n",
            "57 1.470827276352793\n",
            "58 1.4696504476014525\n",
            "59 1.4685381264425814\n",
            "60 1.4674859445076436\n",
            "61 1.4664899013005197\n",
            "62 1.4655463134404272\n",
            "63 1.4646517734508961\n",
            "64 1.4638031558133662\n",
            "65 1.462997549911961\n",
            "66 1.4622322835493833\n",
            "67 1.4615048777777702\n",
            "68 1.4608130329288542\n",
            "69 1.4601546076592058\n",
            "70 1.459527613595128\n",
            "71 1.4589302144013345\n",
            "72 1.4583606799133122\n",
            "73 1.4578174201305956\n"
          ],
          "name": "stdout"
        },
        {
          "output_type": "error",
          "ename": "KeyboardInterrupt",
          "evalue": "",
          "traceback": [
            "\u001b[0;31m---------------------------------------------------------------------------\u001b[0m",
            "\u001b[0;31mKeyboardInterrupt\u001b[0m                         Traceback (most recent call last)",
            "\u001b[0;32m<ipython-input-8-0ac45a21cfdf>\u001b[0m in \u001b[0;36m<module>\u001b[0;34m\u001b[0m\n\u001b[1;32m    100\u001b[0m         \u001b[0mgradient_tensor\u001b[0m\u001b[0;34m[\u001b[0m\u001b[0mquater\u001b[0m\u001b[0;34m:\u001b[0m\u001b[0;36m2\u001b[0m\u001b[0;34m*\u001b[0m\u001b[0mquater\u001b[0m\u001b[0;34m,\u001b[0m\u001b[0;34m:\u001b[0m\u001b[0;34m,\u001b[0m\u001b[0;34m:\u001b[0m\u001b[0;34m]\u001b[0m \u001b[0;34m=\u001b[0m \u001b[0msess\u001b[0m\u001b[0;34m.\u001b[0m\u001b[0mrun\u001b[0m\u001b[0;34m(\u001b[0m\u001b[0mgradient\u001b[0m\u001b[0;34m,\u001b[0m\u001b[0mfeed_dict\u001b[0m\u001b[0;34m=\u001b[0m\u001b[0;34m{\u001b[0m\u001b[0mX_FT_EST\u001b[0m\u001b[0;34m:\u001b[0m\u001b[0mbatch_tensor\u001b[0m\u001b[0;34m[\u001b[0m\u001b[0mquater\u001b[0m\u001b[0;34m:\u001b[0m\u001b[0;36m2\u001b[0m\u001b[0;34m*\u001b[0m\u001b[0mquater\u001b[0m\u001b[0;34m,\u001b[0m\u001b[0;34m:\u001b[0m\u001b[0;34m,\u001b[0m\u001b[0;34m:\u001b[0m\u001b[0;34m]\u001b[0m\u001b[0;34m,\u001b[0m\u001b[0mMEASUREMENT\u001b[0m\u001b[0;34m:\u001b[0m\u001b[0mimSeqLowRes\u001b[0m\u001b[0;34m[\u001b[0m\u001b[0mquater\u001b[0m\u001b[0;34m:\u001b[0m\u001b[0;36m2\u001b[0m\u001b[0;34m*\u001b[0m\u001b[0mquater\u001b[0m\u001b[0;34m,\u001b[0m\u001b[0;34m:\u001b[0m\u001b[0;34m,\u001b[0m\u001b[0;34m:\u001b[0m\u001b[0;34m]\u001b[0m\u001b[0;34m}\u001b[0m\u001b[0;34m)\u001b[0m\u001b[0;34m[\u001b[0m\u001b[0;36m0\u001b[0m\u001b[0;34m]\u001b[0m\u001b[0;34m\u001b[0m\u001b[0;34m\u001b[0m\u001b[0m\n\u001b[1;32m    101\u001b[0m         \u001b[0mgradient_tensor\u001b[0m\u001b[0;34m[\u001b[0m\u001b[0;36m2\u001b[0m\u001b[0;34m*\u001b[0m\u001b[0mquater\u001b[0m\u001b[0;34m:\u001b[0m\u001b[0;36m3\u001b[0m\u001b[0;34m*\u001b[0m\u001b[0mquater\u001b[0m\u001b[0;34m,\u001b[0m\u001b[0;34m:\u001b[0m\u001b[0;34m,\u001b[0m\u001b[0;34m:\u001b[0m\u001b[0;34m]\u001b[0m \u001b[0;34m=\u001b[0m \u001b[0msess\u001b[0m\u001b[0;34m.\u001b[0m\u001b[0mrun\u001b[0m\u001b[0;34m(\u001b[0m\u001b[0mgradient\u001b[0m\u001b[0;34m,\u001b[0m\u001b[0mfeed_dict\u001b[0m\u001b[0;34m=\u001b[0m\u001b[0;34m{\u001b[0m\u001b[0mX_FT_EST\u001b[0m\u001b[0;34m:\u001b[0m\u001b[0mbatch_tensor\u001b[0m\u001b[0;34m[\u001b[0m\u001b[0;36m2\u001b[0m\u001b[0;34m*\u001b[0m\u001b[0mquater\u001b[0m\u001b[0;34m:\u001b[0m\u001b[0;36m3\u001b[0m\u001b[0;34m*\u001b[0m\u001b[0mquater\u001b[0m\u001b[0;34m,\u001b[0m\u001b[0;34m:\u001b[0m\u001b[0;34m,\u001b[0m\u001b[0;34m:\u001b[0m\u001b[0;34m]\u001b[0m\u001b[0;34m,\u001b[0m\u001b[0mMEASUREMENT\u001b[0m\u001b[0;34m:\u001b[0m\u001b[0mimSeqLowRes\u001b[0m\u001b[0;34m[\u001b[0m\u001b[0;36m2\u001b[0m\u001b[0;34m*\u001b[0m\u001b[0mquater\u001b[0m\u001b[0;34m:\u001b[0m\u001b[0;36m3\u001b[0m\u001b[0;34m*\u001b[0m\u001b[0mquater\u001b[0m\u001b[0;34m,\u001b[0m\u001b[0;34m:\u001b[0m\u001b[0;34m,\u001b[0m\u001b[0;34m:\u001b[0m\u001b[0;34m]\u001b[0m\u001b[0;34m}\u001b[0m\u001b[0;34m)\u001b[0m\u001b[0;34m[\u001b[0m\u001b[0;36m0\u001b[0m\u001b[0;34m]\u001b[0m\u001b[0;34m\u001b[0m\u001b[0;34m\u001b[0m\u001b[0m\n\u001b[0;32m--> 102\u001b[0;31m         \u001b[0mgradient_tensor\u001b[0m\u001b[0;34m[\u001b[0m\u001b[0;36m3\u001b[0m\u001b[0;34m*\u001b[0m\u001b[0mquater\u001b[0m\u001b[0;34m:\u001b[0m\u001b[0;36m4\u001b[0m\u001b[0;34m*\u001b[0m\u001b[0mquater\u001b[0m\u001b[0;34m,\u001b[0m\u001b[0;34m:\u001b[0m\u001b[0;34m,\u001b[0m\u001b[0;34m:\u001b[0m\u001b[0;34m]\u001b[0m \u001b[0;34m=\u001b[0m \u001b[0msess\u001b[0m\u001b[0;34m.\u001b[0m\u001b[0mrun\u001b[0m\u001b[0;34m(\u001b[0m\u001b[0mgradient\u001b[0m\u001b[0;34m,\u001b[0m\u001b[0mfeed_dict\u001b[0m\u001b[0;34m=\u001b[0m\u001b[0;34m{\u001b[0m\u001b[0mX_FT_EST\u001b[0m\u001b[0;34m:\u001b[0m\u001b[0mbatch_tensor\u001b[0m\u001b[0;34m[\u001b[0m\u001b[0;36m3\u001b[0m\u001b[0;34m*\u001b[0m\u001b[0mquater\u001b[0m\u001b[0;34m:\u001b[0m\u001b[0;36m4\u001b[0m\u001b[0;34m*\u001b[0m\u001b[0mquater\u001b[0m\u001b[0;34m,\u001b[0m\u001b[0;34m:\u001b[0m\u001b[0;34m,\u001b[0m\u001b[0;34m:\u001b[0m\u001b[0;34m]\u001b[0m\u001b[0;34m,\u001b[0m\u001b[0mMEASUREMENT\u001b[0m\u001b[0;34m:\u001b[0m\u001b[0mimSeqLowRes\u001b[0m\u001b[0;34m[\u001b[0m\u001b[0;36m3\u001b[0m\u001b[0;34m*\u001b[0m\u001b[0mquater\u001b[0m\u001b[0;34m:\u001b[0m\u001b[0;36m4\u001b[0m\u001b[0;34m*\u001b[0m\u001b[0mquater\u001b[0m\u001b[0;34m,\u001b[0m\u001b[0;34m:\u001b[0m\u001b[0;34m,\u001b[0m\u001b[0;34m:\u001b[0m\u001b[0;34m]\u001b[0m\u001b[0;34m}\u001b[0m\u001b[0;34m)\u001b[0m\u001b[0;34m[\u001b[0m\u001b[0;36m0\u001b[0m\u001b[0;34m]\u001b[0m\u001b[0;34m\u001b[0m\u001b[0;34m\u001b[0m\u001b[0m\n\u001b[0m\u001b[1;32m    103\u001b[0m         \u001b[0;32mfor\u001b[0m \u001b[0mi\u001b[0m \u001b[0;32min\u001b[0m \u001b[0mrange\u001b[0m\u001b[0;34m(\u001b[0m\u001b[0mtotal_frame\u001b[0m\u001b[0;34m)\u001b[0m\u001b[0;34m:\u001b[0m\u001b[0;34m\u001b[0m\u001b[0;34m\u001b[0m\u001b[0m\n\u001b[1;32m    104\u001b[0m             \u001b[0;32mif\u001b[0m \u001b[0;32mnot\u001b[0m \u001b[0mxlocations\u001b[0m\u001b[0;34m[\u001b[0m\u001b[0mi\u001b[0m\u001b[0;34m]\u001b[0m \u001b[0;34m>\u001b[0m \u001b[0mN\u001b[0m \u001b[0;34m-\u001b[0m \u001b[0mL\u001b[0m \u001b[0;32mand\u001b[0m \u001b[0;32mnot\u001b[0m \u001b[0mylocations\u001b[0m\u001b[0;34m[\u001b[0m\u001b[0mi\u001b[0m\u001b[0;34m]\u001b[0m \u001b[0;34m>\u001b[0m \u001b[0mN\u001b[0m\u001b[0;34m-\u001b[0m\u001b[0mL\u001b[0m\u001b[0;34m:\u001b[0m\u001b[0;34m\u001b[0m\u001b[0;34m\u001b[0m\u001b[0m\n",
            "\u001b[0;32m/usr/local/lib/python3.6/dist-packages/tensorflow_core/python/client/session.py\u001b[0m in \u001b[0;36mrun\u001b[0;34m(self, fetches, feed_dict, options, run_metadata)\u001b[0m\n\u001b[1;32m    954\u001b[0m     \u001b[0;32mtry\u001b[0m\u001b[0;34m:\u001b[0m\u001b[0;34m\u001b[0m\u001b[0;34m\u001b[0m\u001b[0m\n\u001b[1;32m    955\u001b[0m       result = self._run(None, fetches, feed_dict, options_ptr,\n\u001b[0;32m--> 956\u001b[0;31m                          run_metadata_ptr)\n\u001b[0m\u001b[1;32m    957\u001b[0m       \u001b[0;32mif\u001b[0m \u001b[0mrun_metadata\u001b[0m\u001b[0;34m:\u001b[0m\u001b[0;34m\u001b[0m\u001b[0;34m\u001b[0m\u001b[0m\n\u001b[1;32m    958\u001b[0m         \u001b[0mproto_data\u001b[0m \u001b[0;34m=\u001b[0m \u001b[0mtf_session\u001b[0m\u001b[0;34m.\u001b[0m\u001b[0mTF_GetBuffer\u001b[0m\u001b[0;34m(\u001b[0m\u001b[0mrun_metadata_ptr\u001b[0m\u001b[0;34m)\u001b[0m\u001b[0;34m\u001b[0m\u001b[0;34m\u001b[0m\u001b[0m\n",
            "\u001b[0;32m/usr/local/lib/python3.6/dist-packages/tensorflow_core/python/client/session.py\u001b[0m in \u001b[0;36m_run\u001b[0;34m(self, handle, fetches, feed_dict, options, run_metadata)\u001b[0m\n\u001b[1;32m   1178\u001b[0m     \u001b[0;32mif\u001b[0m \u001b[0mfinal_fetches\u001b[0m \u001b[0;32mor\u001b[0m \u001b[0mfinal_targets\u001b[0m \u001b[0;32mor\u001b[0m \u001b[0;34m(\u001b[0m\u001b[0mhandle\u001b[0m \u001b[0;32mand\u001b[0m \u001b[0mfeed_dict_tensor\u001b[0m\u001b[0;34m)\u001b[0m\u001b[0;34m:\u001b[0m\u001b[0;34m\u001b[0m\u001b[0;34m\u001b[0m\u001b[0m\n\u001b[1;32m   1179\u001b[0m       results = self._do_run(handle, final_targets, final_fetches,\n\u001b[0;32m-> 1180\u001b[0;31m                              feed_dict_tensor, options, run_metadata)\n\u001b[0m\u001b[1;32m   1181\u001b[0m     \u001b[0;32melse\u001b[0m\u001b[0;34m:\u001b[0m\u001b[0;34m\u001b[0m\u001b[0;34m\u001b[0m\u001b[0m\n\u001b[1;32m   1182\u001b[0m       \u001b[0mresults\u001b[0m \u001b[0;34m=\u001b[0m \u001b[0;34m[\u001b[0m\u001b[0;34m]\u001b[0m\u001b[0;34m\u001b[0m\u001b[0;34m\u001b[0m\u001b[0m\n",
            "\u001b[0;32m/usr/local/lib/python3.6/dist-packages/tensorflow_core/python/client/session.py\u001b[0m in \u001b[0;36m_do_run\u001b[0;34m(self, handle, target_list, fetch_list, feed_dict, options, run_metadata)\u001b[0m\n\u001b[1;32m   1357\u001b[0m     \u001b[0;32mif\u001b[0m \u001b[0mhandle\u001b[0m \u001b[0;32mis\u001b[0m \u001b[0;32mNone\u001b[0m\u001b[0;34m:\u001b[0m\u001b[0;34m\u001b[0m\u001b[0;34m\u001b[0m\u001b[0m\n\u001b[1;32m   1358\u001b[0m       return self._do_call(_run_fn, feeds, fetches, targets, options,\n\u001b[0;32m-> 1359\u001b[0;31m                            run_metadata)\n\u001b[0m\u001b[1;32m   1360\u001b[0m     \u001b[0;32melse\u001b[0m\u001b[0;34m:\u001b[0m\u001b[0;34m\u001b[0m\u001b[0;34m\u001b[0m\u001b[0m\n\u001b[1;32m   1361\u001b[0m       \u001b[0;32mreturn\u001b[0m \u001b[0mself\u001b[0m\u001b[0;34m.\u001b[0m\u001b[0m_do_call\u001b[0m\u001b[0;34m(\u001b[0m\u001b[0m_prun_fn\u001b[0m\u001b[0;34m,\u001b[0m \u001b[0mhandle\u001b[0m\u001b[0;34m,\u001b[0m \u001b[0mfeeds\u001b[0m\u001b[0;34m,\u001b[0m \u001b[0mfetches\u001b[0m\u001b[0;34m)\u001b[0m\u001b[0;34m\u001b[0m\u001b[0;34m\u001b[0m\u001b[0m\n",
            "\u001b[0;32m/usr/local/lib/python3.6/dist-packages/tensorflow_core/python/client/session.py\u001b[0m in \u001b[0;36m_do_call\u001b[0;34m(self, fn, *args)\u001b[0m\n\u001b[1;32m   1363\u001b[0m   \u001b[0;32mdef\u001b[0m \u001b[0m_do_call\u001b[0m\u001b[0;34m(\u001b[0m\u001b[0mself\u001b[0m\u001b[0;34m,\u001b[0m \u001b[0mfn\u001b[0m\u001b[0;34m,\u001b[0m \u001b[0;34m*\u001b[0m\u001b[0margs\u001b[0m\u001b[0;34m)\u001b[0m\u001b[0;34m:\u001b[0m\u001b[0;34m\u001b[0m\u001b[0;34m\u001b[0m\u001b[0m\n\u001b[1;32m   1364\u001b[0m     \u001b[0;32mtry\u001b[0m\u001b[0;34m:\u001b[0m\u001b[0;34m\u001b[0m\u001b[0;34m\u001b[0m\u001b[0m\n\u001b[0;32m-> 1365\u001b[0;31m       \u001b[0;32mreturn\u001b[0m \u001b[0mfn\u001b[0m\u001b[0;34m(\u001b[0m\u001b[0;34m*\u001b[0m\u001b[0margs\u001b[0m\u001b[0;34m)\u001b[0m\u001b[0;34m\u001b[0m\u001b[0;34m\u001b[0m\u001b[0m\n\u001b[0m\u001b[1;32m   1366\u001b[0m     \u001b[0;32mexcept\u001b[0m \u001b[0merrors\u001b[0m\u001b[0;34m.\u001b[0m\u001b[0mOpError\u001b[0m \u001b[0;32mas\u001b[0m \u001b[0me\u001b[0m\u001b[0;34m:\u001b[0m\u001b[0;34m\u001b[0m\u001b[0;34m\u001b[0m\u001b[0m\n\u001b[1;32m   1367\u001b[0m       \u001b[0mmessage\u001b[0m \u001b[0;34m=\u001b[0m \u001b[0mcompat\u001b[0m\u001b[0;34m.\u001b[0m\u001b[0mas_text\u001b[0m\u001b[0;34m(\u001b[0m\u001b[0me\u001b[0m\u001b[0;34m.\u001b[0m\u001b[0mmessage\u001b[0m\u001b[0;34m)\u001b[0m\u001b[0;34m\u001b[0m\u001b[0;34m\u001b[0m\u001b[0m\n",
            "\u001b[0;32m/usr/local/lib/python3.6/dist-packages/tensorflow_core/python/client/session.py\u001b[0m in \u001b[0;36m_run_fn\u001b[0;34m(feed_dict, fetch_list, target_list, options, run_metadata)\u001b[0m\n\u001b[1;32m   1348\u001b[0m       \u001b[0mself\u001b[0m\u001b[0;34m.\u001b[0m\u001b[0m_extend_graph\u001b[0m\u001b[0;34m(\u001b[0m\u001b[0;34m)\u001b[0m\u001b[0;34m\u001b[0m\u001b[0;34m\u001b[0m\u001b[0m\n\u001b[1;32m   1349\u001b[0m       return self._call_tf_sessionrun(options, feed_dict, fetch_list,\n\u001b[0;32m-> 1350\u001b[0;31m                                       target_list, run_metadata)\n\u001b[0m\u001b[1;32m   1351\u001b[0m \u001b[0;34m\u001b[0m\u001b[0m\n\u001b[1;32m   1352\u001b[0m     \u001b[0;32mdef\u001b[0m \u001b[0m_prun_fn\u001b[0m\u001b[0;34m(\u001b[0m\u001b[0mhandle\u001b[0m\u001b[0;34m,\u001b[0m \u001b[0mfeed_dict\u001b[0m\u001b[0;34m,\u001b[0m \u001b[0mfetch_list\u001b[0m\u001b[0;34m)\u001b[0m\u001b[0;34m:\u001b[0m\u001b[0;34m\u001b[0m\u001b[0;34m\u001b[0m\u001b[0m\n",
            "\u001b[0;32m/usr/local/lib/python3.6/dist-packages/tensorflow_core/python/client/session.py\u001b[0m in \u001b[0;36m_call_tf_sessionrun\u001b[0;34m(self, options, feed_dict, fetch_list, target_list, run_metadata)\u001b[0m\n\u001b[1;32m   1441\u001b[0m     return tf_session.TF_SessionRun_wrapper(self._session, options, feed_dict,\n\u001b[1;32m   1442\u001b[0m                                             \u001b[0mfetch_list\u001b[0m\u001b[0;34m,\u001b[0m \u001b[0mtarget_list\u001b[0m\u001b[0;34m,\u001b[0m\u001b[0;34m\u001b[0m\u001b[0;34m\u001b[0m\u001b[0m\n\u001b[0;32m-> 1443\u001b[0;31m                                             run_metadata)\n\u001b[0m\u001b[1;32m   1444\u001b[0m \u001b[0;34m\u001b[0m\u001b[0m\n\u001b[1;32m   1445\u001b[0m   \u001b[0;32mdef\u001b[0m \u001b[0m_call_tf_sessionprun\u001b[0m\u001b[0;34m(\u001b[0m\u001b[0mself\u001b[0m\u001b[0;34m,\u001b[0m \u001b[0mhandle\u001b[0m\u001b[0;34m,\u001b[0m \u001b[0mfeed_dict\u001b[0m\u001b[0;34m,\u001b[0m \u001b[0mfetch_list\u001b[0m\u001b[0;34m)\u001b[0m\u001b[0;34m:\u001b[0m\u001b[0;34m\u001b[0m\u001b[0;34m\u001b[0m\u001b[0m\n",
            "\u001b[0;31mKeyboardInterrupt\u001b[0m: "
          ]
        }
      ]
    },
    {
      "cell_type": "markdown",
      "metadata": {
        "id": "GzUaIhvWuhYW"
      },
      "source": [
        "MSE vs photons\n",
        "\n",
        "1e7 1.108\n",
        "1e6 1.110\n",
        "1e5 1.113\n",
        "1e4 1.129\n",
        "1e3 1.280\n",
        "1e2 2.596"
      ]
    }
  ]
}