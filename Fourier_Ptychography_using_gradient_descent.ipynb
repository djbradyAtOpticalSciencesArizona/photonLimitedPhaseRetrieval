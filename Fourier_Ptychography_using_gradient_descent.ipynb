{
 "cells": [
  {
   "cell_type": "markdown",
   "metadata": {},
   "source": [
    "# Ptychography using gradient descent\n",
    "### Chengyu Wang, Duke University\n",
    "### David J. Brady, University of Arizona\n",
    "### Timothy J. Schulz, Michigan Technological University\n",
    "\n",
    "This script implements the 2D Fourier ptychography and a phase retrieval algorithm using gradient descent as described in \"Photon-limited bounds for phase retrieval.\""
   ]
  },
  {
   "cell_type": "code",
   "execution_count": 1,
   "metadata": {},
   "outputs": [],
   "source": [
    "import tensorflow as tf\n",
    "import numpy as np\n",
    "from numpy import matlib\n",
    "import random\n",
    "tf.compat.v1.disable_eager_execution()"
   ]
  },
  {
   "cell_type": "markdown",
   "metadata": {},
   "source": [
    "## Error metrics\n",
    "\n",
    "If $\\underline{F}$ is an $N$-element optical field, and an estimate of this field is $\\widehat{\\underline{F}}$.\n",
    "One way to address this is to optimize the MSE over a global phase:\n",
    "\\begin{equation} \n",
    "MSE = \\underset{\\psi}{argmin} \\frac{1}{N} \\left\\| e^{j \\psi} \\underline{F} - \\widehat{\\underline{F}} \\right\\|^2. \n",
    "\\end{equation}"
   ]
  },
  {
   "cell_type": "code",
   "execution_count": 2,
   "metadata": {},
   "outputs": [],
   "source": [
    "def minAngMSE(xt,xest):\n",
    "    mse=(np.abs(np.vdot(xt,xt))+np.abs(np.vdot(xest,xest))-2*np.abs(np.vdot(xt,xest)));\n",
    "    return mse/xt.shape[0]"
   ]
  },
  {
   "cell_type": "markdown",
   "metadata": {},
   "source": [
    "## Forward model\n",
    "For the forward model, $N_x$ is the number of pixels in each dimension of the random gaussian signal, $L_x$ is the size of the subaperture/selected window, and $M_x$ is the size of the each sampld frame. The subaperture moves circularly with step size $\\Delta$. The total number of frames is $(\\frac{N_x}{\\Delta})^2$. We consider $N_x$ and $\\Delta$ to be powers of 2.\n",
    "\n",
    "A phase shift can be added to the window using the argument *is_mask*."
   ]
  },
  {
   "cell_type": "code",
   "execution_count": 3,
   "metadata": {},
   "outputs": [],
   "source": [
    "## Dimensions\n",
    "N = 256\n",
    "L = 64\n",
    "pad_size = 32\n",
    "M = L + pad_size*2\n",
    "pitch = 16 # Delta\n",
    "total_frame = int(N/pitch)**2\n",
    "\n",
    "is_mask = False ## add a phase shift\n",
    "is_noisy = True  ## add Poisson noise"
   ]
  },
  {
   "cell_type": "markdown",
   "metadata": {},
   "source": [
    "## Phase mask\n",
    "Define the phase mask. 3 different examples are shown here."
   ]
  },
  {
   "cell_type": "code",
   "execution_count": 4,
   "metadata": {},
   "outputs": [],
   "source": [
    "## random phase mask\n",
    "mask = np.exp(1j * np.random.random([L,L]) * 2 * np.pi)\n",
    "\n",
    "# ## periodic phase mask\n",
    "# K = np.pi/L\n",
    "# mesh = np.arange(L)\n",
    "# xlocations,ylocations = np.meshgrid(mesh,mesh);\n",
    "# mask = np.exp(1j * np.cos(K*xlocations) * np.cos(K*ylocations)  * 2*np.pi)\n",
    "\n",
    "# ## MURA mask\n",
    "# def qres(p):\n",
    "#     qr = np.zeros([p-1])\n",
    "#     for i in range(p-1):\n",
    "#         qr[np.mod((i+1)**2,p)-1]=1\n",
    "#     return qr\n",
    "\n",
    "# def gen_mura(p):\n",
    "#     ## p is a prime number\n",
    "#     mask = np.zeros([p,p])\n",
    "#     mask[1:,:] = 1\n",
    "#     qr = qres(p)\n",
    "#     for i in range(1,p):\n",
    "#         for j in range(1,p):\n",
    "#             if qr[i-1] == 1 and qr[j-1] == 1:\n",
    "#                 mask[i,j] = 1\n",
    "#             elif qr[i-1] == 0 and qr[j-1] == 0:\n",
    "#                 mask[i,j] = 1\n",
    "#             else:\n",
    "#                 mask[i,j] = 0\n",
    "#     return mask\n",
    "# mask = gen_mura(L)*2-1 + 0 * 1j"
   ]
  },
  {
   "cell_type": "code",
   "execution_count": 5,
   "metadata": {},
   "outputs": [],
   "source": [
    "## selected windows\n",
    "## xlocations/ylocations save the cordinates of the top left pixels of subaperture/selected windows\n",
    "mesh = np.arange(0,N,pitch)\n",
    "xlocations,ylocations = np.meshgrid(mesh,mesh);\n",
    "xlocations = xlocations.astype(int).flatten()\n",
    "ylocations = ylocations.astype(int).flatten()\n",
    "\n",
    "## Energy constraint\n",
    "## Count how many times each pixel (in Fourier domain) is measured\n",
    "## The energy will be eqaully divided to all measurements\n",
    "counts = np.zeros([2*N,2*N])\n",
    "for i in range(total_frame):\n",
    "     counts[xlocations[i]:xlocations[i]+L,ylocations[i]:ylocations[i]+L] += 1\n",
    "counts = counts[0:N,0:N] + counts[0:N,N:2*N] + counts[N:2*N,0:N] + counts[N:2*N,N:2*N]"
   ]
  },
  {
   "cell_type": "markdown",
   "metadata": {},
   "source": [
    "## Define the tensorflow graph to compute gradient"
   ]
  },
  {
   "cell_type": "code",
   "execution_count": 6,
   "metadata": {},
   "outputs": [],
   "source": [
    "## define the tensorflow model\n",
    "X_FT_EST = tf.compat.v1.placeholder(tf.complex128, shape=(None,L,L))\n",
    "paddings = tf.constant([[0,0],[pad_size, pad_size], [pad_size, pad_size]])\n",
    "MEASUREMENT = tf.compat.v1.placeholder(tf.float64, shape=(None,M,M))\n",
    "if is_mask:\n",
    "    MASK = tf.constant(mask)\n",
    "    X_FT_EST_PAD = tf.pad(tf.multiply(X_FT_EST,MASK),paddings)\n",
    "else:\n",
    "    X_FT_EST_PAD = tf.pad(X_FT_EST,paddings)\n",
    "FORWARD = tf.abs(tf.signal.ifft2d(tf.signal.ifftshift(X_FT_EST_PAD,[1,2]))) * M\n",
    "loss = tf.reshape(tf.cast(tf.math.reduce_sum(tf.math.square(abs(MEASUREMENT)-abs(FORWARD))),tf.complex128),[1,1])\n",
    "# loss = tf.reshape(tf.cast(tf.compat.v1.losses.mean_squared_error(abs(MEASUREMENT),abs(FORWARD)),tf.complex128),[1,1])\n",
    "weight = [[1 + 1j*0]]\n",
    "gradient = tf.gradients(loss, X_FT_EST, grad_ys = weight)\n",
    "\n",
    "## session\n",
    "sess = tf.compat.v1.Session()"
   ]
  },
  {
   "cell_type": "markdown",
   "metadata": {},
   "source": [
    "## Simulation\n",
    "\n",
    "In phase retirevel, we initialize the gradient descent with a simple projection method. The projection method itself is sensitive to noise, resulting in poor MSE, but it approximates the groundtruth faster than gradient descent method. The phase retrieval implemented in this script has two stages:\n",
    "\n",
    "- First a projection method approximates the grountruth\n",
    "- Second the gradient descent algorithm improves the accuracy.\n",
    "\n",
    "FYI: Because of the circular connections, the if ... elif ... elif ... else part is used to consider different locations of the winsow."
   ]
  },
  {
   "cell_type": "code",
   "execution_count": 7,
   "metadata": {},
   "outputs": [],
   "source": [
    "def run_simulation(XT,num_projection_loop = 50, num_gd_iteration = 50,lr = 0.5,return_error = False,verbose = True):\n",
    "    \n",
    "    ## XT: signal\n",
    "    ## num_projection_loop: number of loops for GS projection\n",
    "    ## num_gd_iteration: number of iterations for gradient descent\n",
    "    ## lr: learning rate for the gradient descent\n",
    "    ## return_error: return the reconstruction error\n",
    "    ## verbose: print the system configurations and the reconstruction error\n",
    "    \n",
    "    num_trial = XT.shape[0]\n",
    "    MSE = np.zeros([num_trial])\n",
    "    for ct in range(num_trial):\n",
    "        \n",
    "        ## signal\n",
    "        xt = XT[ct,:,:]\n",
    "        objectFT = np.fft.fftshift(np.fft.fft2(xt))/N/np.sqrt(counts)\n",
    "        objectFT = matlib.repmat(objectFT, 2, 2)\n",
    "\n",
    "        ## measurement\n",
    "        imSeqLowRes = np.zeros([total_frame, M, M]);\n",
    "        for i in range(total_frame):\n",
    "            imSeqLowFT = objectFT[xlocations[i]:xlocations[i] + L,ylocations[i]:ylocations[i] + L]\n",
    "            if is_mask:\n",
    "                imSeqLowFT = np.pad(imSeqLowFT * mask,pad_size)\n",
    "            else:\n",
    "                imSeqLowFT = np.pad(imSeqLowFT,pad_size)\n",
    "            imSeqLowRes[i,:,:] = np.abs(np.fft.ifft2(np.fft.ifftshift(imSeqLowFT))) * M\n",
    "        if is_noisy:\n",
    "            imSeqLowRes = np.sqrt(np.random.poisson(np.power(np.abs(imSeqLowRes),2)))\n",
    "\n",
    "        ## Projection\n",
    "        imageRecover = np.random.randn(N,N);\n",
    "        imageRecoverFT = np.fft.fftshift(np.fft.fft2(imageRecover))\n",
    "        seq = list(range(total_frame))\n",
    "        for loop in range(num_projection_loop):\n",
    "            random.shuffle(seq)\n",
    "            for i in seq:\n",
    "                if not xlocations[i] > N - L and not ylocations[i] > N-L:\n",
    "                    if is_mask:\n",
    "                        imLowRes = np.fft.ifft2(np.fft.ifftshift(np.pad(imageRecoverFT[xlocations[i]:xlocations[i]+L,ylocations[i]:ylocations[i]+L] * mask,pad_size)))\n",
    "                    else:\n",
    "                        imLowRes = np.fft.ifft2(np.fft.ifftshift(np.pad(imageRecoverFT[xlocations[i]:xlocations[i]+L,ylocations[i]:ylocations[i]+L],pad_size)))\n",
    "\n",
    "                    imLowRes = imSeqLowRes[i,:,:] * np.exp(1j * np.angle(imLowRes))\n",
    "                    inverse = np.fft.fftshift(np.fft.fft2(imLowRes)) / M\n",
    "                    if is_mask:\n",
    "                        imageRecoverFT[xlocations[i]:xlocations[i]+L,ylocations[i]:ylocations[i]+L] = inverse[pad_size:pad_size+L,pad_size:pad_size+L]/mask\n",
    "                    else:\n",
    "                        imageRecoverFT[xlocations[i]:xlocations[i]+L,ylocations[i]:ylocations[i]+L] = inverse[pad_size:pad_size+L,pad_size:pad_size+L]\n",
    "                else:\n",
    "                    imageRecoverFTRep = matlib.repmat(imageRecoverFT, 2, 2)\n",
    "                    if is_mask:\n",
    "                        imLowRes = np.fft.ifft2(np.fft.ifftshift(np.pad(imageRecoverFTRep[xlocations[i]:xlocations[i]+L,ylocations[i]:ylocations[i]+L] * mask,pad_size)))\n",
    "                    else:\n",
    "                        imLowRes = np.fft.ifft2(np.fft.ifftshift(np.pad(imageRecoverFTRep[xlocations[i]:xlocations[i]+L,ylocations[i]:ylocations[i]+L],pad_size)))\n",
    "                    imLowRes = imSeqLowRes[i,:,:] * np.exp(1j * np.angle(imLowRes))\n",
    "                    inverse = np.fft.fftshift(np.fft.fft2(imLowRes)) / M\n",
    "                    if is_mask:\n",
    "                        inverse = inverse[pad_size:pad_size+L,pad_size:pad_size+L]/mask\n",
    "                    else:\n",
    "                        inverse = inverse[pad_size:pad_size+L,pad_size:pad_size+L]\n",
    "                    if xlocations[i] > N - L and not ylocations[i] > N-L:\n",
    "                        imageRecoverFT[xlocations[i]:N,ylocations[i]:ylocations[i]+L] = inverse[0:N-xlocations[i],:]\n",
    "                        imageRecoverFT[0:L+xlocations[i]-N,ylocations[i]:ylocations[i]+L] = inverse[N-xlocations[i]:,:]\n",
    "                    elif not xlocations[i] > N - L and ylocations[i] > N-L:\n",
    "                        imageRecoverFT[xlocations[i]:xlocations[i]+L,ylocations[i]:N] = inverse[:,0:N-ylocations[i]]\n",
    "                        imageRecoverFT[xlocations[i]:xlocations[i]+L,0:L+ylocations[i]-N] = inverse[:,N-ylocations[i]:]\n",
    "                    else:\n",
    "                        imageRecoverFT[xlocations[i]:N,ylocations[i]:N] = inverse[0:N-xlocations[i],0:N-ylocations[i]]\n",
    "                        imageRecoverFT[0:L+xlocations[i]-N,0:L+ylocations[i]-N] = inverse[N-xlocations[i]:N,N-ylocations[i]:]\n",
    "                        imageRecoverFT[xlocations[i]:N,0:L+ylocations[i]-N] = inverse[0:N-xlocations[i],N-ylocations[i]:]\n",
    "                        imageRecoverFT[0:L+xlocations[i]-N,ylocations[i]:N] = inverse[N-xlocations[i]:,0:N-ylocations[i]]\n",
    "#             if verbose:\n",
    "#                 imageRecover=np.fft.ifft2(np.fft.ifftshift(imageRecoverFT*np.sqrt(counts))) * N\n",
    "#                 print(loop,minAngMSE(xt.flatten(),imageRecover.flatten()),end='\\r',flush=True)\n",
    "\n",
    "        ## Gradient descent\n",
    "        for iter_ in range(num_gd_iteration):\n",
    "            imageRecoverFTRep = matlib.repmat(imageRecoverFT, 2, 2)\n",
    "            batch_tensor = np.zeros([total_frame ,L, L]) * 1j\n",
    "            for i in range(total_frame):\n",
    "                batch_tensor[i,:,:] = imageRecoverFTRep[xlocations[i]:xlocations[i]+L,ylocations[i]:ylocations[i]+L]\n",
    "            gradient_sum = np.zeros([N,N]) * 1j\n",
    "            gradient_tensor = sess.run(gradient,feed_dict={X_FT_EST:batch_tensor,MEASUREMENT:imSeqLowRes})[0]\n",
    "            for i in range(total_frame):\n",
    "                if not xlocations[i] > N - L and not ylocations[i] > N-L:\n",
    "                    gradient_sum[xlocations[i]:xlocations[i]+L,ylocations[i]:ylocations[i]+L] += gradient_tensor[i,:,:]\n",
    "                elif xlocations[i] > N - L and not ylocations[i] > N-L:\n",
    "                    gradient_sum[xlocations[i]:N,ylocations[i]:ylocations[i]+L] += gradient_tensor[i,0:N-xlocations[i],:]\n",
    "                    gradient_sum[0:L+xlocations[i]-N,ylocations[i]:ylocations[i]+L] += gradient_tensor[i,N-xlocations[i]:,:]\n",
    "                elif not xlocations[i] > N - L and ylocations[i] > N-L:\n",
    "                    gradient_sum[xlocations[i]:xlocations[i]+L,ylocations[i]:N] += gradient_tensor[i,:,0:N-ylocations[i]]\n",
    "                    gradient_sum[xlocations[i]:xlocations[i]+L,0:L+ylocations[i]-N] += gradient_tensor[i,:,N-ylocations[i]:]\n",
    "                else:\n",
    "                    gradient_sum[xlocations[i]:N,ylocations[i]:N] += gradient_tensor[i,0:N-xlocations[i],0:N-ylocations[i]]\n",
    "                    gradient_sum[0:L+xlocations[i]-N,0:L+ylocations[i]-N] += gradient_tensor[i,N-xlocations[i]:N,N-ylocations[i]:]\n",
    "                    gradient_sum[xlocations[i]:N,0:L+ylocations[i]-N] += gradient_tensor[i,0:N-xlocations[i],N-ylocations[i]:]\n",
    "                    gradient_sum[0:L+xlocations[i]-N,ylocations[i]:N] += gradient_tensor[i,N-xlocations[i]:,0:N-ylocations[i]]      \n",
    "            imageRecoverFT = imageRecoverFT - lr * gradient_sum/counts\n",
    "#             if verbose:\n",
    "#                 imageRecover=np.fft.ifft2(np.fft.ifftshift(imageRecoverFT*np.sqrt(counts))) * N\n",
    "#                 print(iter_,minAngMSE(xt.flatten(),imageRecover.flatten()),end='\\r',flush=True)\n",
    "        imageRecover=np.fft.ifft2(np.fft.ifftshift(imageRecoverFT*np.sqrt(counts))) * N\n",
    "        MSE[ct] = minAngMSE(xt.flatten(),imageRecover.flatten())\n",
    "    if verbose:\n",
    "        print('photons = %d, pitch = %d,L = %d, M = %d, MSE = %f.'%(photons,pitch,L,M,np.mean(MSE)))\n",
    "    if return_error:\n",
    "        return np.mean(MSE)"
   ]
  },
  {
   "cell_type": "code",
   "execution_count": 8,
   "metadata": {},
   "outputs": [
    {
     "name": "stdout",
     "output_type": "stream",
     "text": [
      "photons = 1000000, pitch = 16,L = 64, M = 128, MSE = 1.109946.\n"
     ]
    }
   ],
   "source": [
    "num_trial = 10 # number of signals in simulation\n",
    "photons = 1e6 # the expected number of photons per element\n",
    "XT = np.random.randn(num_trial,N,N)+1j*np.random.randn(num_trial,N,N);\n",
    "XT = np.sqrt(photons)*XT/np.sqrt(2.)\n",
    "run_simulation(XT,num_projection_loop=100,num_gd_iteration=50)"
   ]
  },
  {
   "cell_type": "markdown",
   "metadata": {},
   "source": [
    "## MSE vs L"
   ]
  },
  {
   "cell_type": "code",
   "execution_count": 9,
   "metadata": {},
   "outputs": [],
   "source": [
    "import matplotlib.pyplot as plt"
   ]
  },
  {
   "cell_type": "code",
   "execution_count": 10,
   "metadata": {},
   "outputs": [
    {
     "name": "stdout",
     "output_type": "stream",
     "text": [
      "photons = 1000000, pitch = 4,L = 16, M = 32, MSE = 1.036618.\n",
      "photons = 1000000, pitch = 8,L = 32, M = 64, MSE = 1.030497.\n",
      "photons = 1000000, pitch = 16,L = 64, M = 128, MSE = 1.023170.\n",
      "photons = 1000000, pitch = 32,L = 128, M = 256, MSE = 1.021987.\n"
     ]
    }
   ],
   "source": [
    "num_trial = 1\n",
    "photons = 1e6\n",
    "XT = np.random.randn(num_trial,N,N)+1j*np.random.randn(num_trial,N,N);\n",
    "XT = np.sqrt(photons)*XT/np.sqrt(2.)\n",
    "\n",
    "MSE = np.zeros([4])\n",
    "L_list = [16,32,64,128]\n",
    "for idx in range(len(L_list)):\n",
    "    ## dimensions\n",
    "    L = L_list[idx]\n",
    "    N = 256\n",
    "    pad_size = int(L/2)\n",
    "    M = 2 * L\n",
    "    pitch = int(L/4)\n",
    "    total_frame = int(N/pitch)**2\n",
    "\n",
    "    is_mask = True\n",
    "    is_noisy = True \n",
    "    \n",
    "    ## random phase mask\n",
    "    mask = np.exp(1j * np.random.random([L,L]) * 2 * np.pi)\n",
    "    \n",
    "    ## selected windows\n",
    "    mesh = np.arange(0,N,pitch)\n",
    "    xlocations,ylocations = np.meshgrid(mesh,mesh);\n",
    "    xlocations = xlocations.astype(int).flatten()\n",
    "    ylocations = ylocations.astype(int).flatten()\n",
    "\n",
    "    ## Energy constraint\n",
    "    counts = np.zeros([2*N,2*N])\n",
    "    for i in range(total_frame):\n",
    "         counts[xlocations[i]:xlocations[i]+L,ylocations[i]:ylocations[i]+L] += 1\n",
    "    counts = counts[0:N,0:N] + counts[0:N,N:2*N] + counts[N:2*N,0:N] + counts[N:2*N,N:2*N]\n",
    "    \n",
    "    ## define the tensorflow model\n",
    "    tf.compat.v1.reset_default_graph()\n",
    "    X_FT_EST = tf.compat.v1.placeholder(tf.complex128, shape=(None,L,L))\n",
    "    paddings = tf.constant([[0,0],[pad_size, pad_size], [pad_size, pad_size]])\n",
    "    MEASUREMENT = tf.compat.v1.placeholder(tf.float64, shape=(None,M,M))\n",
    "    if is_mask:\n",
    "        MASK = tf.constant(mask)\n",
    "        X_FT_EST_PAD = tf.pad(tf.multiply(X_FT_EST,MASK),paddings)\n",
    "    else:\n",
    "        X_FT_EST_PAD = tf.pad(X_FT_EST,paddings)\n",
    "    FORWARD = tf.abs(tf.signal.ifft2d(tf.signal.ifftshift(X_FT_EST_PAD,[1,2]))) * M\n",
    "    loss = tf.reshape(tf.cast(tf.math.reduce_sum(tf.math.square(abs(MEASUREMENT)-abs(FORWARD))),tf.complex128),[1,1])\n",
    "    weight = [[1 + 1j*0]]\n",
    "    gradient = tf.gradients(loss, X_FT_EST, grad_ys = weight)\n",
    "    sess = tf.compat.v1.Session()\n",
    "    \n",
    "    ## simulations\n",
    "    ## num_projection_loop is set based on experience\n",
    "    if L == 16:\n",
    "        MSE[idx] = run_simulation(XT,num_projection_loop = 200,num_gd_iteration = 100,return_error = True)\n",
    "    else:\n",
    "        MSE[idx] = run_simulation(XT,num_projection_loop = int(1000/L),num_gd_iteration = 20,return_error = True)"
   ]
  },
  {
   "cell_type": "code",
   "execution_count": 13,
   "metadata": {},
   "outputs": [
    {
     "data": {
      "image/png": "[encoded data removed]",
      "text/plain": [
       "<Figure size 432x288 with 1 Axes>"
      ]
     },
     "metadata": {
      "needs_background": "light"
     },
     "output_type": "display_data"
    }
   ],
   "source": [
    "plt.plot(MSE)\n",
    "plt.xticks([0, 1, 2, 3], ['16', '32', '64','128']) \n",
    "plt.grid()\n",
    "plt.xlim([0,3])\n",
    "plt.ylim([1.0,1.1])\n",
    "plt.title('Fourier Ptychography: N = 256, M = 2L, pitch = L/4')\n",
    "plt.xlabel('L')\n",
    "plt.ylabel('MSE')\n",
    "plt.show()"
   ]
  },
  {
   "cell_type": "code",
   "execution_count": null,
   "metadata": {},
   "outputs": [],
   "source": []
  }
 ],
 "metadata": {
  "kernelspec": {
   "display_name": "Python 3",
   "language": "python",
   "name": "python3"
  },
  "language_info": {
   "codemirror_mode": {
    "name": "ipython",
    "version": 3
   },
   "file_extension": ".py",
   "mimetype": "text/x-python",
   "name": "python",
   "nbconvert_exporter": "python",
   "pygments_lexer": "ipython3",
   "version": "3.6.8"
  }
 },
 "nbformat": 4,
 "nbformat_minor": 4
}
